{
 "cells": [
  {
   "cell_type": "code",
   "execution_count": 1,
   "metadata": {},
   "outputs": [
    {
     "name": "stdout",
     "output_type": "stream",
     "text": [
      "2.0.0\n"
     ]
    }
   ],
   "source": [
    "import tensorflow as tf\n",
    "import numpy as np\n",
    "print(tf.__version__)"
   ]
  },
  {
   "cell_type": "code",
   "execution_count": 2,
   "metadata": {},
   "outputs": [
    {
     "data": {
      "text/plain": [
       "<tf.Tensor: id=62, shape=(2, 10), dtype=float32, numpy=\n",
       "array([[ 0.47627547,  0.12908635, -0.04767011,  0.03762572, -0.22968994,\n",
       "         0.07292195, -0.20956676,  0.24949205,  0.14892189, -0.14833519],\n",
       "       [ 0.391208  ,  0.26524487, -0.05629939,  0.00716697, -0.06539508,\n",
       "         0.17122187, -0.16350499,  0.5076758 ,  0.07857557, -0.05519376]],\n",
       "      dtype=float32)>"
      ]
     },
     "execution_count": 2,
     "metadata": {},
     "output_type": "execute_result"
    }
   ],
   "source": [
    "net = tf.keras.models.Sequential()\n",
    "net.add(tf.keras.layers.Flatten())\n",
    "net.add(tf.keras.layers.Dense(256,activation=tf.nn.relu))\n",
    "net.add(tf.keras.layers.Dense(10))\n",
    "\n",
    "X = tf.random.uniform((2,20))\n",
    "Y = net(X)\n",
    "Y"
   ]
  },
  {
   "cell_type": "markdown",
   "metadata": {},
   "source": [
    "## 4.2.1 access model parameters"
   ]
  },
  {
   "cell_type": "code",
   "execution_count": 10,
   "metadata": {},
   "outputs": [
    {
     "data": {
      "text/plain": [
       "(<tf.Variable 'sequential/dense/kernel:0' shape=(20, 256) dtype=float32, numpy=\n",
       " array([[-2.02483535e-02,  2.85128355e-02, -7.38415122e-03, ...,\n",
       "          7.84173608e-03, -1.25107020e-02,  8.92712176e-02],\n",
       "        [ 2.29488611e-02, -1.39583871e-01, -1.23225398e-01, ...,\n",
       "          7.12196082e-02, -2.21055746e-03, -4.10574600e-02],\n",
       "        [ 5.77151179e-02, -1.44912243e-01,  1.00331202e-01, ...,\n",
       "         -1.19500108e-01, -7.26372823e-02, -1.00700825e-01],\n",
       "        ...,\n",
       "        [ 1.46352559e-01,  3.99160534e-02, -1.04723126e-01, ...,\n",
       "          1.44056857e-01, -6.36567399e-02, -4.77666780e-02],\n",
       "        [-2.45300457e-02, -7.79614747e-02, -6.78218603e-02, ...,\n",
       "          1.62270069e-02, -1.57367885e-02, -7.33146816e-02],\n",
       "        [-2.91189030e-02,  1.42401308e-01, -1.06634945e-02, ...,\n",
       "         -7.19291270e-02, -2.29924917e-05,  1.06444657e-01]], dtype=float32)>,\n",
       " tensorflow.python.ops.resource_variable_ops.ResourceVariable)"
      ]
     },
     "execution_count": 10,
     "metadata": {},
     "output_type": "execute_result"
    }
   ],
   "source": [
    "net.weights[0], type(net.weights[0])"
   ]
  },
  {
   "cell_type": "code",
   "execution_count": 14,
   "metadata": {},
   "outputs": [],
   "source": [
    "## initialize params"
   ]
  },
  {
   "cell_type": "code",
   "execution_count": null,
   "metadata": {},
   "outputs": [],
   "source": []
  }
 ],
 "metadata": {
  "kernelspec": {
   "display_name": "tf2.0",
   "language": "python",
   "name": "tf2.0"
  },
  "language_info": {
   "codemirror_mode": {
    "name": "ipython",
    "version": 3
   },
   "file_extension": ".py",
   "mimetype": "text/x-python",
   "name": "python",
   "nbconvert_exporter": "python",
   "pygments_lexer": "ipython3",
   "version": "3.7.4"
  }
 },
 "nbformat": 4,
 "nbformat_minor": 2
}
