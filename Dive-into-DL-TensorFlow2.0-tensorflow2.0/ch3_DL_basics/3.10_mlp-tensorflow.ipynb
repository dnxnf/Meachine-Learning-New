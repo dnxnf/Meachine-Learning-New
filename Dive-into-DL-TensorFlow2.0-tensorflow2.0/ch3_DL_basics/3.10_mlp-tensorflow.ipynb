{
 "cells": [
  {
   "cell_type": "markdown",
   "metadata": {
    "collapsed": true,
    "pycharm": {
     "is_executing": false
    }
   },
   "source": [
    "3.10 多层感知机的简洁实现\n",
    "下面我们使用 tensorflow 来实现上一节中的多层感知机。首先导入所需的包或模块\n"
   ]
  },
  {
   "cell_type": "code",
   "execution_count": null,
   "metadata": {
    "collapsed": true
   },
   "outputs": [],
   "source": [
    "import tensorflow as tf\n",
    "from tensorflow import keras\n",
    "import sys\n",
    "\n",
    "sys.path.append(\"..\")\n",
    "from tensorflow import keras\n",
    "\n",
    "fashion_mnist = keras.datasets.fashion_mnist"
   ]
  },
  {
   "cell_type": "markdown",
   "metadata": {},
   "source": [
    "3.10.1 定义模型\n",
    "和 softmax 回归唯一的不同在于，我们多加了一个全连接层作为隐藏层。它的隐藏单元个数为 256，并使用 ReLU 函数作为激活函数。\n"
   ]
  },
  {
   "cell_type": "code",
   "execution_count": 14,
   "metadata": {
    "collapsed": true
   },
   "outputs": [],
   "source": [
    "model = tf.keras.models.Sequential(\n",
    "    [\n",
    "        tf.keras.layers.Flatten(input_shape=(28, 28)),        tf.keras.layers.Dense(\n",
    "            256,\n",
    "            activation=\"relu\",\n",
    "        ),\n",
    "        tf.keras.layers.Dense(10, activation=\"softmax\"),\n",
    "    ]\n",
    ")\n"
   ]
  },
  {
   "cell_type": "markdown",
   "metadata": {},
   "source": [
    "3.10.2 读取数据并训练模型\n",
    "我们使用与 3.7 节中训练 softmax 回归几乎相同的步骤来读取数据并训练模型。\n"
   ]
  },
  {
   "cell_type": "code",
   "execution_count": 15,
   "metadata": {},
   "outputs": [
    {
     "name": "stdout",
     "output_type": "stream",
     "text": [
      "Epoch 1/5\n",
      "\u001b[1m235/235\u001b[0m \u001b[32m━━━━━━━━━━━━━━━━━━━━\u001b[0m\u001b[37m\u001b[0m \u001b[1m1s\u001b[0m 3ms/step - accuracy: 0.6188 - loss: 1.1229 - val_accuracy: 0.7667 - val_loss: 0.6062\n",
      "Epoch 2/5\n",
      "\u001b[1m235/235\u001b[0m \u001b[32m━━━━━━━━━━━━━━━━━━━━\u001b[0m\u001b[37m\u001b[0m \u001b[1m1s\u001b[0m 3ms/step - accuracy: 0.8216 - loss: 0.4828 - val_accuracy: 0.8294 - val_loss: 0.4536\n",
      "Epoch 3/5\n",
      "\u001b[1m235/235\u001b[0m \u001b[32m━━━━━━━━━━━━━━━━━━━━\u001b[0m\u001b[37m\u001b[0m \u001b[1m1s\u001b[0m 3ms/step - accuracy: 0.8427 - loss: 0.4234 - val_accuracy: 0.7996 - val_loss: 0.5532\n",
      "Epoch 4/5\n",
      "\u001b[1m235/235\u001b[0m \u001b[32m━━━━━━━━━━━━━━━━━━━━\u001b[0m\u001b[37m\u001b[0m \u001b[1m1s\u001b[0m 3ms/step - accuracy: 0.8534 - loss: 0.3987 - val_accuracy: 0.8503 - val_loss: 0.4063\n",
      "Epoch 5/5\n",
      "\u001b[1m235/235\u001b[0m \u001b[32m━━━━━━━━━━━━━━━━━━━━\u001b[0m\u001b[37m\u001b[0m \u001b[1m1s\u001b[0m 3ms/step - accuracy: 0.8683 - loss: 0.3568 - val_accuracy: 0.8419 - val_loss: 0.4418\n"
     ]
    },
    {
     "data": {
      "text/plain": [
       "<keras.src.callbacks.history.History at 0x19ce9f528f0>"
      ]
     },
     "execution_count": 15,
     "metadata": {},
     "output_type": "execute_result"
    }
   ],
   "source": [
    "import os\n",
    "import gzip\n",
    "import numpy as np\n",
    "import tensorflow as tf\n",
    "\n",
    "# import keras\n",
    "\n",
    "data_dir = \"./Data\"\n",
    "\n",
    "\n",
    "train_images_path = os.path.join(data_dir, \"train-images-idx3-ubyte.gz\")\n",
    "train_labels_path = os.path.join(data_dir, \"train-labels-idx1-ubyte.gz\")\n",
    "test_images_path = os.path.join(data_dir, \"t10k-images-idx3-ubyte.gz\")\n",
    "test_labels_path = os.path.join(data_dir, \"t10k-labels-idx1-ubyte.gz\")\n",
    "\n",
    "\n",
    "def load_images(filename):\n",
    "    with gzip.open(filename, \"rb\") as f:\n",
    "        data = np.frombuffer(f.read(), np.uint8, offset=16)  # 跳过前16字节头文件\n",
    "    return data.reshape(-1, 28, 28)  # Fashion-MNIST 图像尺寸为 28x28\n",
    "\n",
    "\n",
    "def load_labels(filename):\n",
    "    with gzip.open(filename, \"rb\") as f:\n",
    "        data = np.frombuffer(f.read(), np.uint8, offset=8)  # 跳过前8字节头文件\n",
    "    return data\n",
    "\n",
    "\n",
    "# 加载数据\n",
    "x_train = load_images(train_images_path)\n",
    "y_train = load_labels(train_labels_path)\n",
    "x_test = load_images(test_images_path)\n",
    "y_test = load_labels(test_labels_path)\n",
    "\n",
    "\n",
    "x_train = x_train / 255.0\n",
    "\n",
    "\n",
    "x_test = x_test / 255.0\n",
    "\n",
    "\n",
    "\n",
    "\n",
    "model.compile(\n",
    "    optimizer=tf.keras.optimizers.SGD(learning_rate = 0.5),\n",
    "    loss=\"sparse_categorical_crossentropy\",\n",
    "    metrics=[\"accuracy\"],\n",
    ")\n",
    "\n",
    "\n",
    "model.fit(\n",
    "    x_train,\n",
    "    y_train,\n",
    "    epochs=5,\n",
    "    batch_size=256,\n",
    "    validation_data=(x_test, y_test),\n",
    "    validation_freq=1,\n",
    ")"
   ]
  },
  {
   "cell_type": "markdown",
   "metadata": {},
   "source": [
    "小结\n",
    "通过 Tensorflow2.0 可以更简洁地实现多层感知机。\n"
   ]
  }
 ],
 "metadata": {
  "kernelspec": {
   "display_name": "py310",
   "language": "python",
   "name": "py310"
  },
  "language_info": {
   "codemirror_mode": {
    "name": "ipython",
    "version": 3
   },
   "file_extension": ".py",
   "mimetype": "text/x-python",
   "name": "python",
   "nbconvert_exporter": "python",
   "pygments_lexer": "ipython3",
   "version": "3.10.18"
  }
 },
 "nbformat": 4,
 "nbformat_minor": 1
}
