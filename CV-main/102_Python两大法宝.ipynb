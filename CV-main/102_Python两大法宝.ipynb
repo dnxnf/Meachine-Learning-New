{
 "cells": [
  {
   "cell_type": "markdown",
   "metadata": {},
   "source": [
    "# 1. Python两大法宝"
   ]
  },
  {
   "cell_type": "markdown",
   "metadata": {},
   "source": [
    "① Python3.6.3相当于一个package，package里面有不同的区域，不同的区域有不同的工具。\n",
    "\n",
    "② Python语法有两大法宝：dir()、help() 函数。\n",
    " - dir()：打开，看见里面有多少分区、多少工具。\n",
    " - help()：说明书。"
   ]
  },
  {
   "cell_type": "code",
   "execution_count": 1,
   "metadata": {},
   "outputs": [
    {
     "name": "stdout",
     "output_type": "stream",
     "text": [
      "PyTorch 版本: 2.5.1+cu121\n",
      "CUDA 可用: True\n",
      "CUDA 版本: 12.1\n"
     ]
    }
   ],
   "source": [
    "import torch\n",
    "\n",
    "print(\"PyTorch 版本:\", torch.__version__)\n",
    "print(\"CUDA 可用:\", torch.cuda.is_available())\n",
    "print(\"CUDA 版本:\", torch.version.cuda)"
   ]
  },
  {
   "cell_type": "code",
   "execution_count": 2,
   "metadata": {},
   "outputs": [
    {
     "name": "stdout",
     "output_type": "stream",
     "text": [
      "hello world\n",
      "Python 路径: d:\\py\\Anaconda3\\envs\\py310\\python.exe\n",
      "0\n",
      "1\n",
      "2\n",
      "3\n",
      "4\n",
      "5\n",
      "6\n",
      "7\n",
      "8\n",
      "9\n"
     ]
    }
   ],
   "source": [
    "import sys\n",
    "\n",
    "print(\"hello world\")\n",
    "print(\"Python 路径:\", sys.executable)\n",
    "for i in range(10):\n",
    "    print(i)"
   ]
  }
 ],
 "metadata": {
  "kernelspec": {
   "display_name": "py310",
   "language": "python",
   "name": "py310"
  },
  "language_info": {
   "codemirror_mode": {
    "name": "ipython",
    "version": 3
   },
   "file_extension": ".py",
   "mimetype": "text/x-python",
   "name": "python",
   "nbconvert_exporter": "python",
   "pygments_lexer": "ipython3",
   "version": "3.10.18"
  },
  "toc": {
   "base_numbering": 1,
   "nav_menu": {},
   "number_sections": false,
   "sideBar": true,
   "skip_h1_title": false,
   "title_cell": "Table of Contents",
   "title_sidebar": "Contents",
   "toc_cell": false,
   "toc_position": {
    "height": "calc(100% - 180px)",
    "left": "10px",
    "top": "150px",
    "width": "357.344px"
   },
   "toc_section_display": true,
   "toc_window_display": true
  }
 },
 "nbformat": 4,
 "nbformat_minor": 4
}
