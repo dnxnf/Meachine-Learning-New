{
 "cells": [
  {
   "cell_type": "code",
   "execution_count": null,
   "id": "18f85f66",
   "metadata": {
    "jupyter": {
     "is_executing": true
    }
   },
   "outputs": [],
   "source": [
    "\"\"\"\n",
    "LA1\n",
    "编写一个 Python 函数，该函数计算矩阵和向量的点积。如果矩阵无法与向量进行点积，则返回 -1。\n",
    "in:[[3, 5, 2], [1, 0, 4], [2, 3, 1]] ,[2, 1, 3]\n",
    "out:[17, 14, 10]\n",
    "------------------------\n",
    "in:[[1, 2, 3], [4, 5, 6]],[1, 2]\n",
    "out:-1\n",
    "维度不匹配则输出-1\n",
    "\"\"\"\n",
    "\n",
    "import numpy as np\n",
    "\n",
    "\n",
    "def matrix_vector_dot(matrix, vector):\n",
    "    matrix = np.array(matrix)  # 转换为numpy数组\n",
    "    vector = np.array(vector)  # 转换为numpy数组\n",
    "    # print(matrix)\n",
    "    # 转换完了直接看行列匹配吗\n",
    "    print(matrix.shape, vector.shape)\n",
    "    print(vector[1])\n",
    "    # 需要左列等于右行，得到左行右列，列为1时，不显示\n",
    "    if matrix.shape[1] != vector.shape[0]:  # 维度不匹配\n",
    "        return -1\n",
    "    else:\n",
    "        return np.dot(matrix, vector).tolist()  # 点积结果转为列表并返回\n",
    "\n",
    "\n",
    "if __name__ == \"__main__\":\n",
    "    matrix = [[3, 5, 2], [1, 0, 4], [2, 3, 1]]\n",
    "    vector = [2, 1, 3]\n",
    "    print(matrix_vector_dot(matrix, vector))"
   ]
  },
  {
   "cell_type": "code",
   "execution_count": null,
   "id": "b318d878",
   "metadata": {},
   "outputs": [
    {
     "name": "stdout",
     "output_type": "stream",
     "text": [
      "[[1, 6], [3, 8], [5, 10]]\n"
     ]
    }
   ],
   "source": [
    "\"\"\"\n",
    "LA2 矩阵转置，给定一个 n × m 的矩阵，请将其转置。转置是指将矩阵的行和列互换，\n",
    "即原矩阵中第i行第j列的元素在转置后变为第j行第i列的元素。\n",
    "in:[[1,3,5],[6,8,10]]\n",
    "out:[[1,6],[3,8],[5,10]]\n",
    "\"\"\"\n",
    "\n",
    "import numpy as np\n",
    "from typing import List, Union\n",
    "\n",
    "\n",
    "def transpose_matrix(a: List[List[Union[int, float]]]) -> List[List[Union[int, float]]]:\n",
    "    # 转置矩阵的行数和列数\n",
    "    # m, n = len(a), len(a[0])\n",
    "    a = np.array(a)\n",
    "    # 转置矩阵有两个，a.T 和 a.transpose()，都能实现对numpy进行转置\n",
    "    b = a.transpose()\n",
    "    # c = a.T\n",
    "    return b.tolist()\n",
    "\n",
    "\n",
    "if __name__ == \"__main__\":\n",
    "    a = [[1, 3, 5], [6, 8, 10]]\n",
    "    print(transpose_matrix(a))"
   ]
  },
  {
   "cell_type": "code",
   "execution_count": null,
   "id": "21989b1f",
   "metadata": {},
   "outputs": [
    {
     "name": "stdout",
     "output_type": "stream",
     "text": [
      "4 4\n",
      "[[1, 2, 3, 4]]\n",
      "3 5\n",
      "-1\n"
     ]
    }
   ],
   "source": [
    "\"\"\"\n",
    "LA3\n",
    "在机器学习中,我们经常需要对矩阵进行重塑(reshape)操作。给定一个矩阵，将其重塑为一个新的矩阵，\n",
    "但保持其原始数据。如果重塑前后的元素总数不相同，返回-1,重塑操作应当满足：\n",
    "1.新矩阵的元素总数必须与原矩阵相同\n",
    "2.原矩阵中的元素在新矩阵中的相对顺序不变\n",
    "input:[[1, 2], [3, 4]],(1, 4)\n",
    "output:[[1, 2, 3, 4]]\n",
    "----------------\n",
    "input:[[1, 2, 3]],(5, 1)\n",
    "output: -1  因为元素总数不匹配\n",
    "\"\"\"\n",
    "\n",
    "from typing import List, Tuple, Union\n",
    "import numpy as np\n",
    "\n",
    "\n",
    "def reshape_matrix(\n",
    "    a: List[List[Union[int, float]]], new_shape: Tuple[int, int]\n",
    ") -> List[List[Union[int, float]]]:\n",
    "    a = np.array(a)\n",
    "    # prod的用法：返回数组中所有元素的乘积\n",
    "    # size的用法：返回数组元素的总数\n",
    "    # reshape的用法：改变数组的形状\n",
    "    print(a.size, np.product(new_shape))\n",
    "    # np.product(new_shape)返回new_shape的所有元素的乘积，由于其只有两个元素，所以返回总数\n",
    "    # np.product可以缩写为np.prod，返回数组中所有元素的乘积\n",
    "    # if a.size == np.product(new_shape): # 和下一行一样的效果\n",
    "    if a.size == new_shape[0] * new_shape[1]:\n",
    "        return a.reshape(new_shape).tolist()\n",
    "    else:\n",
    "        return -1  # 元素总数不匹配\n",
    "\n",
    "\n",
    "if __name__ == \"__main__\":\n",
    "    a = [[1, 2], [3, 4]]\n",
    "    new_shape = (1, 4)\n",
    "    print(reshape_matrix(a, new_shape))  # [[1, 2, 3, 4]]\n",
    "\n",
    "    a = [[1, 2, 3]]\n",
    "    new_shape = (5, 1)\n",
    "    print(reshape_matrix(a, new_shape))  # -1"
   ]
  },
  {
   "cell_type": "code",
   "execution_count": null,
   "id": "0390e642",
   "metadata": {},
   "outputs": [
    {
     "name": "stdout",
     "output_type": "stream",
     "text": [
      "[2.0, 5.0]\n",
      "[2.5, 3.5, 4.5]\n"
     ]
    }
   ],
   "source": [
    "\"\"\"\n",
    "LA4\n",
    "计算矩阵按行或按列的平均值。该函数接收一个二维数组（矩阵）和计算模式作为输入，返回对应的平均值列表。\n",
    "input:[[1, 2, 3], [4, 5, 6]], row\n",
    "output:[2.0, 5.0]\n",
    "----------------------\n",
    "input:[[1, 2, 3], [4, 5, 6]], column\n",
    "output:[2.5, 3.5, 4.5]\n",
    "\"\"\"\n",
    "\n",
    "from typing import List, Union\n",
    "import numpy as np\n",
    "\n",
    "\n",
    "def calculate_matrix_mean(\n",
    "    matrix: List[List[Union[int, float]]], mode: str\n",
    ") -> List[float]:\n",
    "    if mode == \"row\":\n",
    "        return [np.mean(row) for row in matrix]\n",
    "    elif mode == \"column\":\n",
    "        # 先弄成np格式，再转置，再求均值\n",
    "        return [np.mean(column) for column in np.array(matrix).T]\n",
    "\n",
    "\n",
    "if __name__ == \"__main__\":\n",
    "    matrix = [[1, 2, 3], [4, 5, 6]]\n",
    "    mode = \"row\"\n",
    "    print(calculate_matrix_mean(matrix, mode))  # [2.0, 5.0]\n",
    "\n",
    "    matrix = [[1, 2, 3], [4, 5, 6]]\n",
    "    mode = \"column\"\n",
    "    print(calculate_matrix_mean(matrix, mode))  # [2.5, 3.5, 4.5]"
   ]
  },
  {
   "cell_type": "code",
   "execution_count": null,
   "id": "b67b8491",
   "metadata": {},
   "outputs": [
    {
     "name": "stdout",
     "output_type": "stream",
     "text": [
      "[[2.0, 4.0], [6.0, 8.0]]\n"
     ]
    }
   ],
   "source": [
    "\"\"\"\n",
    "LA5\n",
    "计算矩阵与标量的乘法运算。该函数接收一个二维数组（矩阵）和一个标量值作为输入，返回乘法运算后的新矩阵。\n",
    "输入：[[1, 2], [3, 4]], 2.0\n",
    "输出：[[2.0, 4.0], [6.0, 8.0]]\n",
    "\"\"\"\n",
    "\n",
    "from typing import List, Union\n",
    "import numpy as np\n",
    "\n",
    "\n",
    "def scalar_multiply(\n",
    "    matrix: List[List[Union[int, float]]], scalar: Union[int, float]\n",
    ") -> List[List[Union[int, float]]]:\n",
    "    matrix = np.array(matrix)\n",
    "    return (matrix * scalar).tolist()\n",
    "\n",
    "\n",
    "if __name__ == \"__main__\":\n",
    "    matrix = [[1, 2], [3, 4]]\n",
    "    scalar = 2.0\n",
    "    result = scalar_multiply(matrix, scalar)\n",
    "    print(result)"
   ]
  },
  {
   "cell_type": "code",
   "execution_count": null,
   "id": "9ec6c04e",
   "metadata": {},
   "outputs": [
    {
     "name": "stdout",
     "output_type": "stream",
     "text": [
      "[[1. 1.]\n",
      " [1. 1.]]\n"
     ]
    }
   ],
   "source": [
    "\"\"\"\n",
    "LA6\n",
    "编写一个 Python 函数来计算给定向量集的协方差矩阵。该函数应该采用一个列表列表，\n",
    "其中每个内部列表代表一个特征及其观察结果，并返回一个协方差矩阵。\n",
    "input:[[7, 8, 9], [10, 11, 12]]\n",
    "output:[[1.0, 1.0], [1.0, 1.0]]\n",
    "提示：使用 numpy 库中的 cov 函数来计算协方差矩阵。\n",
    "\"\"\"\n",
    "\n",
    "import numpy as np\n",
    "\n",
    "\n",
    "def calculate_covariance_matrix(vectors):\n",
    "    vectors = np.array(vectors)\n",
    "    return np.cov(vectors)\n",
    "    # 补全代码\n",
    "\n",
    "\n",
    "# 主程序\n",
    "if __name__ == \"__main__\":\n",
    "    # 输入\n",
    "    ndarrayA = [[7, 8, 9], [10, 11, 12]]\n",
    "\n",
    "    # 调用函数计算\n",
    "    output = calculate_covariance_matrix(ndarrayA)\n",
    "\n",
    "    # 输出结果\n",
    "    print(output)"
   ]
  },
  {
   "cell_type": "code",
   "execution_count": null,
   "id": "57af085b",
   "metadata": {},
   "outputs": [
    {
     "name": "stdout",
     "output_type": "stream",
     "text": [
      "tensor([[1, 0, 0],\n",
      "        [0, 2, 0],\n",
      "        [0, 0, 3]])\n"
     ]
    }
   ],
   "source": [
    "# 向量矩阵转化为对角矩阵\n",
    "import torch\n",
    "\n",
    "# 向量转化为对角矩阵\n",
    "v = torch.tensor([1, 2, 3])\n",
    "d = torch.diag(v)\n",
    "print(d)"
   ]
  },
  {
   "cell_type": "code",
   "execution_count": null,
   "id": "31965068",
   "metadata": {},
   "outputs": [
    {
     "name": "stdout",
     "output_type": "stream",
     "text": [
      "[1, 2, 3, 4, 5]\n",
      "[0, 0, 1, 1, 2]\n",
      "[0, 1, 3, 5]\n"
     ]
    }
   ],
   "source": [
    "\"\"\"\n",
    "实现一个函数来将密集矩阵（dense matrix）转换为压缩行稀疏\n",
    "(Compressed Row Sparse, CSR)格式。CSR是一种高效存储稀疏矩阵的方法，只存储非零元素及其位置信息。\n",
    "input：[[1, 0, 0], [2, 3, 0], [0, 4, 5]]\n",
    "output：输出三个列表，分别表示CSR格式中的values、column_indices和row_pointer。\n",
    "[1, 2, 3, 4, 5]\n",
    "[0, 0, 1, 1, 2]\n",
    "[0, 1, 3, 5]\n",
    "values：存储矩阵中所有的非零元素值\n",
    "column_indices：存储每个非零元素所在的列索引\n",
    "row_ptr（row pointer）：存储每行的起始位置在values中的索引\n",
    "\"\"\"\n",
    "\n",
    "import numpy as np\n",
    "\n",
    "\n",
    "def dense_to_csr(dense_matrix):\n",
    "    \"\"\"\n",
    "    将密集矩阵转换为CSR格式。\n",
    "    :param dense_matrix: 密集矩阵\n",
    "    :return: values, column_indices, row_pointer\n",
    "    \"\"\"\n",
    "    values = []\n",
    "    column_indices = []\n",
    "    row_pointer = [0]\n",
    "    for i in range(len(dense_matrix)):\n",
    "        for j in range(len(dense_matrix[i])):\n",
    "            if dense_matrix[i][j] != 0:\n",
    "                values.append(dense_matrix[i][j])\n",
    "                column_indices.append(j)\n",
    "        row_pointer.append(len(column_indices))\n",
    "    return values, column_indices, row_pointer\n",
    "\n",
    "\n",
    "if __name__ == \"__main__\":\n",
    "    dense_matrix = np.array([[1, 0, 0], [2, 3, 0], [0, 4, 5]])\n",
    "    values, column_indices, row_pointer = dense_to_csr(dense_matrix)\n",
    "    print(values)\n",
    "    print(column_indices)\n",
    "    print(row_pointer)"
   ]
  },
  {
   "cell_type": "code",
   "execution_count": 4,
   "id": "f53ed9e5",
   "metadata": {},
   "outputs": [
    {
     "name": "stdout",
     "output_type": "stream",
     "text": [
      "0.975\n"
     ]
    }
   ],
   "source": [
    "\"\"\"\n",
    "计算余弦相似度，保留三位小数\n",
    "使用cosine_similarity函数\n",
    "\n",
    "原代码使用整数张量([1, 2, 3])，这可能导致计算精度问题\n",
    "修正为浮点张量([1.0, 2.0, 3.0])，确保计算精度\n",
    "\"\"\"\n",
    "\n",
    "import torch\n",
    "import torch.nn.functional as F\n",
    "\n",
    "# 需要是小数\n",
    "a = torch.tensor([1.0, 2.0, 3.0])\n",
    "b = torch.tensor([4.0, 5.0, 6.0])\n",
    "# dim=0表示沿着第0维度计算相似度（对于一维向量），需要指定维度\n",
    "cos_sim = F.cosine_similarity(a, b, dim=0)\n",
    "cos_sim = round(cos_sim.item(), 3)\n",
    "print(cos_sim)"
   ]
  },
  {
   "cell_type": "markdown",
   "id": "475c8b64",
   "metadata": {},
   "source": [
    "泊松分布公式如下所示，其中 λ 是单位时间内事件发生的平均次数，x 是随机变量，表示事件发生的次数。\n",
    "$$P(x)=\\frac{\\lambda^xe^{-\\lambda}}{x!}$$\n"
   ]
  },
  {
   "cell_type": "code",
   "execution_count": 7,
   "id": "c37cc552",
   "metadata": {},
   "outputs": [
    {
     "name": "stdout",
     "output_type": "stream",
     "text": [
      "0.14037\n"
     ]
    }
   ],
   "source": [
    "\"\"\"\n",
    "编写一个 Python 函数，使用泊松分布公式计算在固定时间间隔内恰好观察到 k 个事件的概率,\n",
    "该函数应将k(事件数)和λ(平均发生率)作为输入,并返回四舍五入到小数点后 5 位的概率。\n",
    "输入两个整数，分别代表 k 和 λ。\n",
    "输出一个浮点数，代表在固定时间间隔内恰好观察到 k 个事件的概率。\n",
    "input: 3,5\n",
    "output:0.14037\n",
    "\"\"\"\n",
    "\n",
    "import math\n",
    "\n",
    "\n",
    "def poisson_probability(k, lam):\n",
    "    val = math.exp(-lam) * math.pow(lam, k) / math.factorial(k)\n",
    "    return round(val, 5)\n",
    "\n",
    "\n",
    "if __name__ == \"__main__\":\n",
    "    # k, lam = map(int, input().split())\n",
    "    k, lam = 3, 5\n",
    "    print(poisson_probability(k, lam))"
   ]
  },
  {
   "cell_type": "code",
   "execution_count": 13,
   "id": "ba76a298",
   "metadata": {},
   "outputs": [
    {
     "name": "stdout",
     "output_type": "stream",
     "text": [
      "32\n"
     ]
    }
   ],
   "source": [
    "\"\"\"\n",
    "点积计算器，输入两个向量，输出它们的点积。\n",
    "input:[1, 2, 3], [4, 5, 6]\n",
    "output:32\n",
    "\"\"\"\n",
    "\n",
    "import numpy as np\n",
    "\n",
    "\n",
    "def calculate_dot_product(vec1, vec2):\n",
    "    vec1 = np.array(vec1)\n",
    "    vec2 = np.array(vec2)\n",
    "    if vec1.shape != vec2.shape:\n",
    "        raise ValueError(\"The two vectors should have the same shape.\")\n",
    "    return np.dot(vec1, vec2)\n",
    "\n",
    "\n",
    "if __name__ == \"__main__\":\n",
    "    vec1 = [1, 2, 3]\n",
    "    vec2 = [4, 5, 6]\n",
    "    print(calculate_dot_product(vec1, vec2))"
   ]
  },
  {
   "cell_type": "markdown",
   "id": "4f155e2f",
   "metadata": {},
   "source": [
    "矩阵的特征值是指矩阵的一些特殊的数值，这些数值可以用来表示矩阵的某种性质。矩阵的特征值和特征向量是密切相关的，公式如下，其中，$\\lambda$是矩阵的特征值，$\\vec{x}$是矩阵的特征向量。\n",
    "\n",
    "$$A\\vec{x}=\\lambda\\vec{x}$$\n",
    "\n",
    "数学上计算特征值要先得到特征方程：\n",
    "\n",
    "$$A\\vec{x}-\\lambda\\vec{x} = 0$$\n",
    "\n",
    "再使用单位矩阵，即$I$，来求解特征方程：\n",
    "\n",
    "$$(A- \\lambda I)\\vec{x} = 0$$\n",
    "\n",
    "即：$$ det(A- \\lambda I) = 0$$\n"
   ]
  },
  {
   "cell_type": "code",
   "execution_count": 21,
   "id": "4b5ad335",
   "metadata": {},
   "outputs": [
    {
     "name": "stdout",
     "output_type": "stream",
     "text": [
      "[3.0, -1.0]\n"
     ]
    }
   ],
   "source": [
    "\"\"\"\n",
    "计算2x2矩阵的特征值，\n",
    "input:[[1,2],[2,1]]\n",
    "output:[ 3. -1.]\n",
    "\"\"\"\n",
    "\n",
    "from typing import List, Union\n",
    "import numpy as np\n",
    "\n",
    "\n",
    "def calculate_eigenvalues(matrix: List[List[Union[int, float]]]) -> List[float]:\n",
    "    matrix = np.array(matrix)\n",
    "    eigenvalues = np.linalg.eigvals(matrix)\n",
    "    return eigenvalues.tolist()\n",
    "\n",
    "\n",
    "if __name__ == \"__main__\":\n",
    "    matrix = [[1.0, 2.0], [2, 1]]\n",
    "    eigenvalues = calculate_eigenvalues(matrix)\n",
    "    # round 限制几位小数\n",
    "    eigenvalues = [round(eigenvalue, 2) for eigenvalue in eigenvalues]\n",
    "    # eigenvalues = round(eigenvalues[0], 2)\n",
    "    print(eigenvalues)"
   ]
  },
  {
   "cell_type": "code",
   "execution_count": null,
   "id": "1c9065bf",
   "metadata": {},
   "outputs": [
    {
     "name": "stdout",
     "output_type": "stream",
     "text": [
      "[[-3.0, 3.5], [1.0, -1.0]]\n",
      "[[-3.   3.5]\n",
      " [ 1.  -1. ]]\n"
     ]
    }
   ],
   "source": [
    "import numpy as np\n",
    "\n",
    "\n",
    "def inverse_2x2(matrix):\n",
    "    # 转换为 numpy 数组\n",
    "    matrix = np.array(matrix, dtype=float)\n",
    "\n",
    "    # 检查是否是 2×2 矩阵\n",
    "    if matrix.shape != (2, 2):\n",
    "        return None\n",
    "    return np.linalg.inv(matrix).tolist()\n",
    "\n",
    "\n",
    "if __name__ == \"__main__\":\n",
    "    # 输入矩阵\n",
    "    matrix_input = [[2, 7], [2, 6]]\n",
    "\n",
    "    # 调用函数计算逆矩阵\n",
    "    output = inverse_2x2(matrix_input)\n",
    "\n",
    "    # 输出结果\n",
    "    print(output)\n",
    "\n",
    "temp = np.array([[2, 7], [2, 6]])\n",
    "print(np.linalg.inv(temp))"
   ]
  },
  {
   "cell_type": "code",
   "execution_count": 46,
   "id": "dbdf4bc5",
   "metadata": {},
   "outputs": [
    {
     "name": "stdout",
     "output_type": "stream",
     "text": [
      "tensor([[ 4,  2],\n",
      "        [ 6, 16]])\n",
      "tensor([[ 4,  2],\n",
      "        [ 6, 16]])\n",
      "tensor([[10, 10],\n",
      "        [16, 18]])\n"
     ]
    }
   ],
   "source": [
    "\"\"\"\n",
    "输入两个矩阵，返回两个矩阵做点乘的结果\n",
    "input:[[2,2],[2,4]], [[2,1],[3,4]]\n",
    "output:[[10,10],[16,18]]\n",
    "\"\"\"\n",
    "\n",
    "import torch\n",
    "\n",
    "a = torch.tensor([[2, 2], [2, 4]])\n",
    "b = torch.tensor([[2, 1], [3, 4]])\n",
    "print(a * b) #对应元素相乘\n",
    "print(a.mul(b)) #对应元素相乘\n",
    "# [[10, 10], [16, 18]]\n",
    "print(a.matmul(b)) #矩阵乘法"
   ]
  },
  {
   "cell_type": "code",
   "execution_count": 51,
   "id": "dd772163",
   "metadata": {},
   "outputs": [
    {
     "name": "stdout",
     "output_type": "stream",
     "text": [
      "[4.9997 4.9997 4.9996]\n"
     ]
    }
   ],
   "source": [
    "\"\"\"\n",
    "使用雅各比Jacobi求解Ax = b的线性方程组，迭代n次，四舍五入小数点后四位\n",
    "input：第1行输入A，第2行输入b，第3行输入n。\n",
    "[[4, -1, 0], [-1, 4, -1], [0, -1, 3]]\n",
    "[15, 10, 10]\n",
    "10\n",
    "out：[4.9997, 4.9997, 4.9996]\n",
    "\"\"\"\n",
    "import numpy as np\n",
    "\n",
    "def solve_jacobi(A, b, n) :\n",
    "    A = np.array(A)\n",
    "    b = np.array(b)\n",
    "    x = np.zeros(len(b))\n",
    "    # 用Jacobi迭代法求解线性方程组Ax = b\n",
    "    D = np.diag(np.diag(A))\n",
    "    LU = A - D\n",
    "\n",
    "    for _ in range(n):\n",
    "        x = (b - np.dot(LU, x)) / np.diag(D)\n",
    "\n",
    "    return np.round(x, 4)\n",
    "\n",
    "\n",
    "if __name__ == '__main__':\n",
    "    A = [[4, -1, 0], [-1, 4, -1], [0, -1, 3]]\n",
    "    b = [15, 10, 10]\n",
    "    n = 10\n",
    "    x = solve_jacobi(A, b, n)\n",
    "    print(x)"
   ]
  }
 ],
 "metadata": {
  "kernelspec": {
   "display_name": "py310",
   "language": "python",
   "name": "py310"
  },
  "language_info": {
   "codemirror_mode": {
    "name": "ipython",
    "version": 3
   },
   "file_extension": ".py",
   "mimetype": "text/x-python",
   "name": "python",
   "nbconvert_exporter": "python",
   "pygments_lexer": "ipython3",
   "version": "3.10.18"
  }
 },
 "nbformat": 4,
 "nbformat_minor": 5
}
