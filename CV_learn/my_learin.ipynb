{
 "cells": [
  {
   "cell_type": "markdown",
   "id": "968f43db",
   "metadata": {},
   "source": []
  }
 ],
 "metadata": {
  "language_info": {
   "name": "python"
  }
 },
 "nbformat": 4,
 "nbformat_minor": 5
}
