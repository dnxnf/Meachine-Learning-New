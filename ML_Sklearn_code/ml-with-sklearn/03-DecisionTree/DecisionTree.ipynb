{
 "cells": [
  {
   "cell_type": "markdown",
   "metadata": {},
   "source": [
    "## iris数据集\n",
    "\n",
    "鸢尾花（iris）数据集是一个经典数据集，在统计学习和机器学习领域都经常被用作示例。数据集内包含 3 类共 150 条记录，每类各 50 个数据，每条记录都有 4 项特征：花萼长度、花萼宽度、花瓣长度、花瓣宽度，可以通过这4个特征预测鸢尾花卉属于（iris-setosa, iris-versicolour, iris-virginica）中的哪一品种。"
   ]
  },
  {
   "cell_type": "code",
   "execution_count": 1,
   "metadata": {
    "ExecuteTime": {
     "end_time": "2025-06-22T09:11:18.181186Z",
     "start_time": "2025-06-22T09:11:16.864134Z"
    }
   },
   "outputs": [],
   "source": [
    "import seaborn as sns\n",
    "from pandas import plotting\n",
    "import pandas as pd\n",
    "import numpy as np\n",
    "import matplotlib.pyplot as plt\n",
    "from sklearn.tree import DecisionTreeClassifier\n",
    "from sklearn.datasets import load_iris\n",
    "from sklearn.model_selection import train_test_split\n",
    "from sklearn import tree"
   ]
  },
  {
   "cell_type": "code",
   "metadata": {
    "jupyter": {
     "is_executing": true
    }
   },
   "source": [
    "# 加载数据集\n",
    "data = load_iris() \n",
    "# 转换成.DataFrame形式\n",
    "df = pd.DataFrame(data.data, columns = data.feature_names)\n",
    "# 添加品种列\n",
    "df['Species'] = data.target\n",
    "# 查看数据集信息\n",
    "print(f\"数据集信息：\\n{df.info()}\")\n",
    "# 查看前5条数据\n",
    "print(f\"前5条数据：\\n{df.head()}\")\n",
    "# 查看各特征列的摘要信息\n",
    "df.describe()"
   ],
   "outputs": [],
   "execution_count": null
  },
  {
   "cell_type": "markdown",
   "metadata": {},
   "source": [
    "通过[Violinplot](https://zhuanlan.zhihu.com/p/376055263)和 Pointplot，分别从数据分布和斜率，观察各特征与品种之间的关系"
   ]
  },
  {
   "cell_type": "code",
   "execution_count": null,
   "metadata": {
    "jupyter": {
     "is_executing": true
    }
   },
   "outputs": [],
   "source": [
    "# 设置颜色主题\n",
    "antV = ['#1890FF', '#2FC25B', '#FACC14', '#223273', '#8543E0', '#13C2C2', '#3436c7', '#F04864'] \n",
    "# 绘制violinplot\n",
    "f, axes = plt.subplots(2, 2, figsize=(8, 8), sharex=True)\n",
    "sns.despine(left=True) # 删除上方和右方坐标轴上不需要的边框，这在matplotlib中是无法通过参数实现的\n",
    "sns.violinplot(x='Species', y=df.columns[0], data=df, palette=antV, ax=axes[0, 0])\n",
    "sns.violinplot(x='Species', y=df.columns[1], data=df, palette=antV, ax=axes[0, 1])\n",
    "sns.violinplot(x='Species', y=df.columns[2], data=df, palette=antV, ax=axes[1, 0])\n",
    "sns.violinplot(x='Species', y=df.columns[3], data=df, palette=antV, ax=axes[1, 1])\n",
    "plt.show()\n",
    "# 绘制pointplot\n",
    "f, axes = plt.subplots(2, 2, figsize=(8, 6), sharex=True)\n",
    "sns.despine(left=True)\n",
    "sns.pointplot(x='Species', y=df.columns[0], data=df, color=antV[1], ax=axes[0, 0])\n",
    "sns.pointplot(x='Species', y=df.columns[1], data=df, color=antV[1], ax=axes[0, 1])\n",
    "sns.pointplot(x='Species', y=df.columns[2], data=df, color=antV[1], ax=axes[1, 0])\n",
    "sns.pointplot(x='Species', y=df.columns[3], data=df, color=antV[1], ax=axes[1, 1])\n",
    "plt.show()\n",
    "# g = sns.pairplot(data=df, palette=antV, hue= 'Species')\n",
    "# 安德鲁曲线\n",
    "plt.subplots(figsize = (8,6))\n",
    "plotting.andrews_curves(df, 'Species', colormap='cool')\n",
    "\n",
    "plt.show()"
   ]
  },
  {
   "cell_type": "code",
   "execution_count": null,
   "metadata": {},
   "outputs": [],
   "source": [
    "# 加载数据集\n",
    "data = load_iris() \n",
    "# 转换成.DataFrame形式\n",
    "df = pd.DataFrame(data.data, columns = data.feature_names)\n",
    "# 添加品种列\n",
    "df['Species'] = data.target\n",
    "\n",
    "# 用数值替代品种名作为标签\n",
    "target = np.unique(data.target)\n",
    "target_names = np.unique(data.target_names)\n",
    "targets = dict(zip(target, target_names))\n",
    "df['Species'] = df['Species'].replace(targets)\n",
    "\n",
    "# 提取数据和标签\n",
    "X = df.drop(columns=\"Species\")\n",
    "y = df[\"Species\"]\n",
    "feature_names = X.columns\n",
    "labels = y.unique()\n",
    "\n",
    "X_train, test_x, y_train, test_lab = train_test_split(X,y,\n",
    "                                                 test_size = 0.4,\n",
    "                                                 random_state = 42)\n",
    "model = DecisionTreeClassifier(max_depth =3, random_state = 42)\n",
    "model.fit(X_train, y_train) \n",
    "# 以文字形式输出树     \n",
    "text_representation = tree.export_text(model)\n",
    "print(text_representation)\n",
    "# 用图片画出\n",
    "plt.figure(figsize=(30,10), facecolor ='g') #\n",
    "a = tree.plot_tree(model,\n",
    "                   feature_names = feature_names,\n",
    "                   class_names = labels,\n",
    "                   rounded = True,\n",
    "                   filled = True,\n",
    "                   fontsize=14)\n",
    "plt.show()                                          "
   ]
  }
 ],
 "metadata": {
  "kernelspec": {
   "display_name": "pytorch310_jupyter",
   "language": "python",
   "name": "pytorch310_jupyter"
  },
  "language_info": {
   "codemirror_mode": {
    "name": "ipython",
    "version": 3
   },
   "file_extension": ".py",
   "mimetype": "text/x-python",
   "name": "python",
   "nbconvert_exporter": "python",
   "pygments_lexer": "ipython3",
   "version": "3.10.16"
  }
 },
 "nbformat": 4,
 "nbformat_minor": 4
}
